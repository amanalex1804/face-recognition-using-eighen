{
 "cells": [
  {
   "cell_type": "code",
   "execution_count": null,
   "metadata": {
    "collapsed": true
   },
   "outputs": [],
   "source": [
    "# --face recognition using eigenface--\n",
    "\n",
    "#code:  http://scikit-learn.org/stable/auto_examples/applications/plot_face_recognition.html#sphx-glr-auto-examples-applications-plot-face-recognition-py\n",
    "\n",
    "# references: 1.   https://github.com/bugra/EigenFace\n",
    "#             2.   https://github.com/junzis/memeit/blob/master/ref/face_recognition.py\n",
    "#             3.   https://onionesquereality.wordpress.com/2009/02/11/face-recognition-using-eigenfaces-and-distance-classifiers-a-tutorial/\n",
    "#             4.   http://bugra.github.io/work/notes/2013-07-27/PCA-EigenFace-And-All-That/"
   ]
  },
  {
   "cell_type": "code",
   "execution_count": null,
   "metadata": {
    "collapsed": true
   },
   "outputs": [],
   "source": [
    "#from __future__ import print_function      #allows incompatible function to run here\n",
    "                                         # printing way"
   ]
  },
  {
   "cell_type": "code",
   "execution_count": 1,
   "metadata": {
    "collapsed": true
   },
   "outputs": [],
   "source": [
    "from time import time           #will display logging time/warning\n",
    "import logging"
   ]
  },
  {
   "cell_type": "code",
   "execution_count": 2,
   "metadata": {
    "collapsed": true
   },
   "outputs": [],
   "source": [
    "import matplotlib.pyplot as plt\n",
    "     #plotting the graph"
   ]
  },
  {
   "cell_type": "code",
   "execution_count": 3,
   "metadata": {
    "collapsed": true
   },
   "outputs": [],
   "source": [
    "from sklearn.model_selection import train_test_split"
   ]
  },
  {
   "cell_type": "code",
   "execution_count": 4,
   "metadata": {
    "collapsed": true
   },
   "outputs": [],
   "source": [
    "from sklearn.model_selection import GridSearchCV\n",
    "     #exhaustive searching over a grid of parameters"
   ]
  },
  {
   "cell_type": "code",
   "execution_count": 5,
   "metadata": {
    "collapsed": true
   },
   "outputs": [],
   "source": [
    "from sklearn.metrics import classification_report\n",
    "        #generates matrix of target values \n",
    "       #pricision, recall, f1-score ,support (read sklearn)"
   ]
  },
  {
   "cell_type": "code",
   "execution_count": 6,
   "metadata": {
    "collapsed": true
   },
   "outputs": [],
   "source": [
    "from sklearn.metrics import confusion_matrix\n",
    "      # for debugging confusion matrix"
   ]
  },
  {
   "cell_type": "code",
   "execution_count": 7,
   "metadata": {
    "collapsed": true
   },
   "outputs": [],
   "source": [
    "from sklearn.svm import SVC\n",
    "      #support vector classification\n",
    "      #svm part : fails for large datasets"
   ]
  },
  {
   "cell_type": "code",
   "execution_count": 8,
   "metadata": {
    "collapsed": true
   },
   "outputs": [],
   "source": [
    "from sklearn.datasets import fetch_lfw_people\n",
    "       # taking dataset of people from sklearn dataset"
   ]
  },
  {
   "cell_type": "code",
   "execution_count": 9,
   "metadata": {
    "collapsed": true
   },
   "outputs": [],
   "source": [
    "from sklearn.decomposition import PCA\n",
    "       #principal component analysis\n",
    "       #linear dimension reduction using decomposition \n",
    "        "
   ]
  },
  {
   "cell_type": "code",
   "execution_count": 10,
   "metadata": {
    "collapsed": true
   },
   "outputs": [],
   "source": [
    "#print(__doc__)\n",
    "     #it prints the module docstring but automatically in Ipython"
   ]
  },
  {
   "cell_type": "code",
   "execution_count": 11,
   "metadata": {
    "collapsed": true
   },
   "outputs": [],
   "source": [
    "logging.basicConfig(level=logging.INFO,format='%(asctime)s %(message)s')"
   ]
  },
  {
   "cell_type": "code",
   "execution_count": 12,
   "metadata": {
    "collapsed": true
   },
   "outputs": [],
   "source": [
    "import numpy as np\n",
    "import pandas as pd\n"
   ]
  },
  {
   "cell_type": "code",
   "execution_count": null,
   "metadata": {
    "collapsed": true
   },
   "outputs": [],
   "source": [
    "\n"
   ]
  },
  {
   "cell_type": "code",
   "execution_count": 13,
   "metadata": {
    "collapsed": true
   },
   "outputs": [],
   "source": [
    "dataset=fetch_lfw_people(min_faces_per_person=100,resize=0.3)"
   ]
  },
  {
   "cell_type": "code",
   "execution_count": 14,
   "metadata": {},
   "outputs": [
    {
     "data": {
      "text/plain": [
       "{'DESCR': 'LFW faces dataset',\n",
       " 'data': array([[  88.33333588,   64.33333588,   90.33333588, ...,  110.33333588,\n",
       "          109.        ,  153.66667175],\n",
       "        [  47.33333206,   71.33333588,  120.66666412, ...,  226.33332825,\n",
       "          233.        ,  224.33332825],\n",
       "        [  38.        ,   44.33333206,   84.33333588, ...,  102.66666412,\n",
       "           90.66666412,   62.33333206],\n",
       "        ..., \n",
       "        [ 224.        ,  208.33332825,  194.33332825, ...,  141.66667175,\n",
       "          148.33332825,  158.33332825],\n",
       "        [ 109.66666412,  134.33332825,  145.33332825, ...,  181.33332825,\n",
       "          215.33332825,  186.        ],\n",
       "        [  60.33333206,  115.        ,  108.33333588, ...,   10.66666698,\n",
       "           24.        ,   31.33333397]], dtype=float32),\n",
       " 'images': array([[[  88.33333588,   64.33333588,   90.33333588, ...,   85.        ,\n",
       "           103.        ,   96.66666412],\n",
       "         [  91.33333588,   71.33333588,  117.66666412, ...,   81.        ,\n",
       "            85.        ,   94.33333588],\n",
       "         [  81.33333588,   91.        ,  130.33332825, ...,  105.        ,\n",
       "            83.33333588,   77.66666412],\n",
       "         ..., \n",
       "         [  48.        ,   53.33333206,   61.        , ...,   92.        ,\n",
       "           108.66666412,  105.        ],\n",
       "         [  26.        ,   33.66666794,   46.66666794, ...,  106.        ,\n",
       "           104.        ,  107.66666412],\n",
       "         [  26.66666603,   32.        ,   44.        , ...,  110.33333588,\n",
       "           109.        ,  153.66667175]],\n",
       " \n",
       "        [[  47.33333206,   71.33333588,  120.66666412, ...,  139.66667175,\n",
       "            98.        ,   50.66666794],\n",
       "         [  43.66666794,   82.        ,  138.        , ...,  145.        ,\n",
       "           138.        ,   84.66666412],\n",
       "         [  46.        ,   97.        ,  141.66667175, ...,  142.33332825,\n",
       "           151.66667175,  116.        ],\n",
       "         ..., \n",
       "         [ 140.33332825,  105.        ,   45.66666794, ...,  140.66667175,\n",
       "           200.66667175,  205.66667175],\n",
       "         [ 126.33333588,   71.66666412,   43.33333206, ...,  210.        ,\n",
       "           226.66667175,  221.        ],\n",
       "         [ 101.        ,   58.33333206,   59.66666794, ...,  226.33332825,\n",
       "           233.        ,  224.33332825]],\n",
       " \n",
       "        [[  38.        ,   44.33333206,   84.33333588, ...,   90.        ,\n",
       "            83.66666412,   82.33333588],\n",
       "         [  38.        ,   56.33333206,  120.66666412, ...,   92.33333588,\n",
       "            85.        ,   82.        ],\n",
       "         [  42.        ,   82.66666412,  134.        , ...,   99.        ,\n",
       "            94.        ,   84.33333588],\n",
       "         ..., \n",
       "         [  27.66666603,   25.        ,   24.        , ...,   77.66666412,\n",
       "            65.66666412,   50.33333206],\n",
       "         [  23.        ,   20.        ,   21.        , ...,   83.66666412,\n",
       "            71.33333588,   53.33333206],\n",
       "         [  22.        ,   20.        ,   21.66666603, ...,  102.66666412,\n",
       "            90.66666412,   62.33333206]],\n",
       " \n",
       "        ..., \n",
       "        [[ 224.        ,  208.33332825,  194.33332825, ...,  166.66667175,\n",
       "           109.66666412,   89.66666412],\n",
       "         [ 216.33332825,  197.33332825,  175.33332825, ...,  198.66667175,\n",
       "           148.33332825,  108.        ],\n",
       "         [ 206.        ,  187.33332825,  136.33332825, ...,  208.66667175,\n",
       "           186.        ,  125.66666412],\n",
       "         ..., \n",
       "         [  70.66666412,   55.        ,   36.        , ...,  113.66666412,\n",
       "           133.33332825,  114.66666412],\n",
       "         [  52.        ,   40.        ,   29.33333397, ...,  124.66666412,\n",
       "           139.33332825,  152.33332825],\n",
       "         [  42.66666794,   32.        ,   21.33333397, ...,  141.66667175,\n",
       "           148.33332825,  158.33332825]],\n",
       " \n",
       "        [[ 109.66666412,  134.33332825,  145.33332825, ...,  165.33332825,\n",
       "           167.66667175,  154.33332825],\n",
       "         [ 121.66666412,  136.        ,  141.66667175, ...,  178.33332825,\n",
       "           172.66667175,  159.66667175],\n",
       "         [ 124.        ,  132.66667175,  136.        , ...,  191.        ,\n",
       "           177.        ,  164.66667175],\n",
       "         ..., \n",
       "         [ 253.        ,  252.        ,  239.        , ...,   92.66666412,\n",
       "           123.        ,  195.66667175],\n",
       "         [ 253.33332825,  252.        ,  240.33332825, ...,  111.        ,\n",
       "           185.66667175,  220.33332825],\n",
       "         [ 253.        ,  252.        ,  243.        , ...,  181.33332825,\n",
       "           215.33332825,  186.        ]],\n",
       " \n",
       "        [[  60.33333206,  115.        ,  108.33333588, ...,   59.66666794,\n",
       "            62.66666794,   58.33333206],\n",
       "         [  79.        ,  136.        ,  102.33333588, ...,   55.66666794,\n",
       "            64.33333588,   72.        ],\n",
       "         [  93.66666412,  137.        ,   93.        , ...,   55.33333206,\n",
       "            59.66666794,   67.33333588],\n",
       "         ..., \n",
       "         [   6.        ,   12.66666698,   15.33333302, ...,    9.33333302,\n",
       "            24.66666603,   33.        ],\n",
       "         [   8.66666698,   14.33333302,   15.        , ...,   11.        ,\n",
       "            25.33333397,   33.33333206],\n",
       "         [  10.        ,   14.        ,   14.33333302, ...,   10.66666698,\n",
       "            24.        ,   31.33333397]]], dtype=float32),\n",
       " 'target': array([2, 3, 1, ..., 4, 2, 4], dtype=int64),\n",
       " 'target_names': array(['Colin Powell', 'Donald Rumsfeld', 'George W Bush',\n",
       "        'Gerhard Schroeder', 'Tony Blair'],\n",
       "       dtype='<U17')}"
      ]
     },
     "execution_count": 14,
     "metadata": {},
     "output_type": "execute_result"
    }
   ],
   "source": [
    "dataset"
   ]
  },
  {
   "cell_type": "code",
   "execution_count": 15,
   "metadata": {
    "collapsed": true
   },
   "outputs": [],
   "source": [
    "n_samples,h,w=dataset.images.shape"
   ]
  },
  {
   "cell_type": "markdown",
   "metadata": {},
   "source": [
    "n_sapmples"
   ]
  },
  {
   "cell_type": "code",
   "execution_count": 16,
   "metadata": {},
   "outputs": [
    {
     "data": {
      "text/plain": [
       "1140"
      ]
     },
     "execution_count": 16,
     "metadata": {},
     "output_type": "execute_result"
    }
   ],
   "source": [
    "n_samples"
   ]
  },
  {
   "cell_type": "code",
   "execution_count": 17,
   "metadata": {},
   "outputs": [
    {
     "data": {
      "text/plain": [
       "37"
      ]
     },
     "execution_count": 17,
     "metadata": {},
     "output_type": "execute_result"
    }
   ],
   "source": [
    "h"
   ]
  },
  {
   "cell_type": "code",
   "execution_count": 18,
   "metadata": {},
   "outputs": [
    {
     "data": {
      "text/plain": [
       "28"
      ]
     },
     "execution_count": 18,
     "metadata": {},
     "output_type": "execute_result"
    }
   ],
   "source": [
    "w"
   ]
  },
  {
   "cell_type": "code",
   "execution_count": 19,
   "metadata": {},
   "outputs": [
    {
     "data": {
      "text/plain": [
       "(1140, 37, 28)"
      ]
     },
     "execution_count": 19,
     "metadata": {},
     "output_type": "execute_result"
    }
   ],
   "source": [
    "dataset.images.shape"
   ]
  },
  {
   "cell_type": "code",
   "execution_count": 20,
   "metadata": {},
   "outputs": [
    {
     "data": {
      "text/plain": [
       "array([[[  88.33333588,   64.33333588,   90.33333588, ...,   85.        ,\n",
       "          103.        ,   96.66666412],\n",
       "        [  91.33333588,   71.33333588,  117.66666412, ...,   81.        ,\n",
       "           85.        ,   94.33333588],\n",
       "        [  81.33333588,   91.        ,  130.33332825, ...,  105.        ,\n",
       "           83.33333588,   77.66666412],\n",
       "        ..., \n",
       "        [  48.        ,   53.33333206,   61.        , ...,   92.        ,\n",
       "          108.66666412,  105.        ],\n",
       "        [  26.        ,   33.66666794,   46.66666794, ...,  106.        ,\n",
       "          104.        ,  107.66666412],\n",
       "        [  26.66666603,   32.        ,   44.        , ...,  110.33333588,\n",
       "          109.        ,  153.66667175]],\n",
       "\n",
       "       [[  47.33333206,   71.33333588,  120.66666412, ...,  139.66667175,\n",
       "           98.        ,   50.66666794],\n",
       "        [  43.66666794,   82.        ,  138.        , ...,  145.        ,\n",
       "          138.        ,   84.66666412],\n",
       "        [  46.        ,   97.        ,  141.66667175, ...,  142.33332825,\n",
       "          151.66667175,  116.        ],\n",
       "        ..., \n",
       "        [ 140.33332825,  105.        ,   45.66666794, ...,  140.66667175,\n",
       "          200.66667175,  205.66667175],\n",
       "        [ 126.33333588,   71.66666412,   43.33333206, ...,  210.        ,\n",
       "          226.66667175,  221.        ],\n",
       "        [ 101.        ,   58.33333206,   59.66666794, ...,  226.33332825,\n",
       "          233.        ,  224.33332825]],\n",
       "\n",
       "       [[  38.        ,   44.33333206,   84.33333588, ...,   90.        ,\n",
       "           83.66666412,   82.33333588],\n",
       "        [  38.        ,   56.33333206,  120.66666412, ...,   92.33333588,\n",
       "           85.        ,   82.        ],\n",
       "        [  42.        ,   82.66666412,  134.        , ...,   99.        ,\n",
       "           94.        ,   84.33333588],\n",
       "        ..., \n",
       "        [  27.66666603,   25.        ,   24.        , ...,   77.66666412,\n",
       "           65.66666412,   50.33333206],\n",
       "        [  23.        ,   20.        ,   21.        , ...,   83.66666412,\n",
       "           71.33333588,   53.33333206],\n",
       "        [  22.        ,   20.        ,   21.66666603, ...,  102.66666412,\n",
       "           90.66666412,   62.33333206]],\n",
       "\n",
       "       ..., \n",
       "       [[ 224.        ,  208.33332825,  194.33332825, ...,  166.66667175,\n",
       "          109.66666412,   89.66666412],\n",
       "        [ 216.33332825,  197.33332825,  175.33332825, ...,  198.66667175,\n",
       "          148.33332825,  108.        ],\n",
       "        [ 206.        ,  187.33332825,  136.33332825, ...,  208.66667175,\n",
       "          186.        ,  125.66666412],\n",
       "        ..., \n",
       "        [  70.66666412,   55.        ,   36.        , ...,  113.66666412,\n",
       "          133.33332825,  114.66666412],\n",
       "        [  52.        ,   40.        ,   29.33333397, ...,  124.66666412,\n",
       "          139.33332825,  152.33332825],\n",
       "        [  42.66666794,   32.        ,   21.33333397, ...,  141.66667175,\n",
       "          148.33332825,  158.33332825]],\n",
       "\n",
       "       [[ 109.66666412,  134.33332825,  145.33332825, ...,  165.33332825,\n",
       "          167.66667175,  154.33332825],\n",
       "        [ 121.66666412,  136.        ,  141.66667175, ...,  178.33332825,\n",
       "          172.66667175,  159.66667175],\n",
       "        [ 124.        ,  132.66667175,  136.        , ...,  191.        ,\n",
       "          177.        ,  164.66667175],\n",
       "        ..., \n",
       "        [ 253.        ,  252.        ,  239.        , ...,   92.66666412,\n",
       "          123.        ,  195.66667175],\n",
       "        [ 253.33332825,  252.        ,  240.33332825, ...,  111.        ,\n",
       "          185.66667175,  220.33332825],\n",
       "        [ 253.        ,  252.        ,  243.        , ...,  181.33332825,\n",
       "          215.33332825,  186.        ]],\n",
       "\n",
       "       [[  60.33333206,  115.        ,  108.33333588, ...,   59.66666794,\n",
       "           62.66666794,   58.33333206],\n",
       "        [  79.        ,  136.        ,  102.33333588, ...,   55.66666794,\n",
       "           64.33333588,   72.        ],\n",
       "        [  93.66666412,  137.        ,   93.        , ...,   55.33333206,\n",
       "           59.66666794,   67.33333588],\n",
       "        ..., \n",
       "        [   6.        ,   12.66666698,   15.33333302, ...,    9.33333302,\n",
       "           24.66666603,   33.        ],\n",
       "        [   8.66666698,   14.33333302,   15.        , ...,   11.        ,\n",
       "           25.33333397,   33.33333206],\n",
       "        [  10.        ,   14.        ,   14.33333302, ...,   10.66666698,\n",
       "           24.        ,   31.33333397]]], dtype=float32)"
      ]
     },
     "execution_count": 20,
     "metadata": {},
     "output_type": "execute_result"
    }
   ],
   "source": [
    "dataset.images"
   ]
  },
  {
   "cell_type": "code",
   "execution_count": 21,
   "metadata": {
    "collapsed": true
   },
   "outputs": [],
   "source": [
    "X=dataset.data"
   ]
  },
  {
   "cell_type": "code",
   "execution_count": 22,
   "metadata": {},
   "outputs": [
    {
     "data": {
      "text/plain": [
       "array([[  88.33333588,   64.33333588,   90.33333588, ...,  110.33333588,\n",
       "         109.        ,  153.66667175],\n",
       "       [  47.33333206,   71.33333588,  120.66666412, ...,  226.33332825,\n",
       "         233.        ,  224.33332825],\n",
       "       [  38.        ,   44.33333206,   84.33333588, ...,  102.66666412,\n",
       "          90.66666412,   62.33333206],\n",
       "       ..., \n",
       "       [ 224.        ,  208.33332825,  194.33332825, ...,  141.66667175,\n",
       "         148.33332825,  158.33332825],\n",
       "       [ 109.66666412,  134.33332825,  145.33332825, ...,  181.33332825,\n",
       "         215.33332825,  186.        ],\n",
       "       [  60.33333206,  115.        ,  108.33333588, ...,   10.66666698,\n",
       "          24.        ,   31.33333397]], dtype=float32)"
      ]
     },
     "execution_count": 22,
     "metadata": {},
     "output_type": "execute_result"
    }
   ],
   "source": [
    "X"
   ]
  },
  {
   "cell_type": "code",
   "execution_count": 23,
   "metadata": {},
   "outputs": [
    {
     "data": {
      "text/plain": [
       "(1140, 1036)"
      ]
     },
     "execution_count": 23,
     "metadata": {},
     "output_type": "execute_result"
    }
   ],
   "source": [
    "X.shape   #first one is faces and second is feature"
   ]
  },
  {
   "cell_type": "code",
   "execution_count": 24,
   "metadata": {
    "collapsed": true
   },
   "outputs": [],
   "source": [
    "n_features=X.shape[1]    "
   ]
  },
  {
   "cell_type": "code",
   "execution_count": 25,
   "metadata": {},
   "outputs": [
    {
     "data": {
      "text/plain": [
       "1036"
      ]
     },
     "execution_count": 25,
     "metadata": {},
     "output_type": "execute_result"
    }
   ],
   "source": [
    "n_features"
   ]
  },
  {
   "cell_type": "code",
   "execution_count": 26,
   "metadata": {
    "collapsed": true
   },
   "outputs": [],
   "source": [
    "#for target values"
   ]
  },
  {
   "cell_type": "code",
   "execution_count": 27,
   "metadata": {
    "collapsed": true
   },
   "outputs": [],
   "source": [
    "y=dataset.target"
   ]
  },
  {
   "cell_type": "code",
   "execution_count": 28,
   "metadata": {},
   "outputs": [
    {
     "data": {
      "text/plain": [
       "array([2, 3, 1, ..., 4, 2, 4], dtype=int64)"
      ]
     },
     "execution_count": 28,
     "metadata": {},
     "output_type": "execute_result"
    }
   ],
   "source": [
    "y"
   ]
  },
  {
   "cell_type": "code",
   "execution_count": 29,
   "metadata": {
    "collapsed": true
   },
   "outputs": [],
   "source": [
    "target_names=dataset.target_names"
   ]
  },
  {
   "cell_type": "code",
   "execution_count": 30,
   "metadata": {},
   "outputs": [
    {
     "data": {
      "text/plain": [
       "array(['Colin Powell', 'Donald Rumsfeld', 'George W Bush',\n",
       "       'Gerhard Schroeder', 'Tony Blair'],\n",
       "      dtype='<U17')"
      ]
     },
     "execution_count": 30,
     "metadata": {},
     "output_type": "execute_result"
    }
   ],
   "source": [
    "target_names"
   ]
  },
  {
   "cell_type": "code",
   "execution_count": 31,
   "metadata": {},
   "outputs": [
    {
     "data": {
      "text/plain": [
       "(5,)"
      ]
     },
     "execution_count": 31,
     "metadata": {},
     "output_type": "execute_result"
    }
   ],
   "source": [
    "target_names.shape"
   ]
  },
  {
   "cell_type": "code",
   "execution_count": 32,
   "metadata": {
    "collapsed": true
   },
   "outputs": [],
   "source": [
    "n_classes=target_names.shape[0]"
   ]
  },
  {
   "cell_type": "code",
   "execution_count": 33,
   "metadata": {},
   "outputs": [
    {
     "data": {
      "text/plain": [
       "5"
      ]
     },
     "execution_count": 33,
     "metadata": {},
     "output_type": "execute_result"
    }
   ],
   "source": [
    "n_classes"
   ]
  },
  {
   "cell_type": "code",
   "execution_count": 34,
   "metadata": {
    "collapsed": true
   },
   "outputs": [],
   "source": [
    "\n",
    "#splitting the dataset"
   ]
  },
  {
   "cell_type": "code",
   "execution_count": 35,
   "metadata": {
    "collapsed": true
   },
   "outputs": [],
   "source": [
    "X_train,X_test,y_train,y_test=train_test_split(X,y,test_size=0.25,random_state=42)"
   ]
  },
  {
   "cell_type": "code",
   "execution_count": 36,
   "metadata": {},
   "outputs": [
    {
     "data": {
      "text/plain": [
       "array([[  52.66666794,   66.33333588,   94.33333588, ...,   78.66666412,\n",
       "          17.33333397,   20.        ],\n",
       "       [ 197.33332825,  164.33332825,  140.66667175, ...,  177.33332825,\n",
       "          53.33333206,   88.33333588],\n",
       "       [  45.33333206,   54.        ,  142.66667175, ...,  232.33332825,\n",
       "         233.66667175,  237.66667175],\n",
       "       ..., \n",
       "       [  62.        ,   49.        ,   73.        , ...,  234.66667175,\n",
       "         214.66667175,   83.66666412],\n",
       "       [ 116.66666412,  126.33333588,  144.33332825, ...,   40.33333206,\n",
       "          41.        ,   43.        ],\n",
       "       [ 112.        ,  133.66667175,  147.66667175, ...,  176.        ,\n",
       "          75.        ,   22.66666603]], dtype=float32)"
      ]
     },
     "execution_count": 36,
     "metadata": {},
     "output_type": "execute_result"
    }
   ],
   "source": [
    "X_train"
   ]
  },
  {
   "cell_type": "code",
   "execution_count": 37,
   "metadata": {},
   "outputs": [
    {
     "data": {
      "text/plain": [
       "array([2, 0, 0, 2, 2, 2, 2, 2, 4, 2, 0, 4, 2, 2, 4, 2, 2, 2, 2, 0, 2, 0, 0,\n",
       "       1, 0, 2, 2, 2, 1, 2, 1, 0, 0, 2, 2, 2, 0, 2, 2, 1, 0, 2, 2, 4, 0, 2,\n",
       "       0, 3, 0, 1, 2, 2, 1, 2, 2, 2, 2, 1, 1, 4, 2, 2, 0, 2, 2, 2, 2, 0, 3,\n",
       "       2, 0, 2, 2, 2, 3, 3, 2, 1, 2, 0, 0, 2, 3, 2, 4, 2, 2, 2, 1, 3, 2, 2,\n",
       "       2, 4, 2, 4, 2, 2, 2, 3, 0, 2, 3, 2, 2, 2, 0, 2, 2, 0, 2, 3, 2, 2, 1,\n",
       "       2, 2, 0, 2, 2, 0, 0, 1, 2, 0, 2, 0, 2, 0, 2, 4, 0, 4, 2, 2, 1, 0, 2,\n",
       "       1, 2, 2, 2, 1, 0, 0, 2, 2, 2, 0, 2, 2, 2, 2, 2, 2, 4, 0, 2, 2, 3, 0,\n",
       "       1, 2, 0, 0, 1, 4, 0, 0, 2, 3, 0, 0, 2, 0, 3, 2, 4, 2, 1, 0, 3, 3, 2,\n",
       "       4, 2, 4, 1, 3, 3, 2, 4, 2, 2, 0, 4, 2, 2, 2, 3, 0, 0, 0, 1, 0, 1, 0,\n",
       "       2, 2, 0, 2, 2, 2, 2, 2, 0, 0, 2, 2, 3, 2, 2, 0, 1, 2, 1, 0, 2, 4, 1,\n",
       "       2, 2, 4, 4, 2, 2, 2, 3, 4, 4, 4, 3, 0, 0, 2, 2, 2, 2, 4, 2, 4, 0, 3,\n",
       "       2, 2, 2, 0, 1, 2, 0, 1, 0, 1, 3, 4, 0, 0, 3, 0, 4, 3, 2, 3, 2, 2, 2,\n",
       "       0, 2, 2, 2, 2, 2, 2, 2, 0, 4, 4, 2, 0, 2, 2, 0, 3, 1, 2, 4, 4, 3, 2,\n",
       "       2, 3, 0, 1, 2, 2, 2, 1, 2, 1, 0, 0, 4, 2, 2, 2, 2, 0, 2, 2, 4, 2, 2,\n",
       "       2, 1, 0, 2, 2, 2, 0, 2, 3, 2, 2, 2, 0, 4, 3, 1, 4, 0, 3, 1, 2, 3, 2,\n",
       "       0, 2, 3, 3, 0, 0, 2, 2, 4, 2, 0, 0, 3, 2, 2, 2, 2, 2, 2, 2, 2, 3, 1,\n",
       "       2, 1, 4, 2, 4, 2, 2, 3, 1, 2, 0, 2, 2, 3, 4, 0, 2, 2, 4, 1, 1, 3, 2,\n",
       "       4, 3, 4, 2, 2, 0, 2, 2, 0, 2, 2, 0, 2, 2, 2, 2, 2, 3, 1, 4, 0, 2, 4,\n",
       "       2, 0, 2, 0, 1, 2, 0, 0, 4, 4, 1, 2, 4, 0, 2, 4, 2, 2, 4, 2, 2, 2, 2,\n",
       "       1, 2, 1, 4, 2, 2, 2, 2, 2, 2, 0, 2, 2, 2, 0, 2, 4, 2, 4, 0, 2, 2, 2,\n",
       "       3, 2, 2, 2, 2, 4, 2, 0, 4, 0, 2, 2, 2, 2, 2, 2, 1, 2, 4, 2, 2, 4, 2,\n",
       "       3, 0, 1, 4, 2, 2, 4, 2, 0, 0, 4, 1, 1, 0, 2, 2, 2, 0, 1, 4, 2, 0, 4,\n",
       "       2, 2, 3, 3, 2, 3, 2, 2, 2, 2, 3, 3, 4, 0, 2, 1, 2, 2, 2, 2, 2, 2, 2,\n",
       "       0, 0, 2, 4, 2, 2, 1, 3, 2, 2, 0, 2, 0, 4, 1, 2, 1, 4, 2, 4, 2, 1, 3,\n",
       "       0, 4, 2, 4, 3, 2, 2, 2, 1, 2, 1, 1, 2, 2, 2, 0, 0, 2, 0, 2, 0, 4, 2,\n",
       "       2, 0, 0, 2, 0, 2, 0, 0, 1, 0, 0, 2, 2, 1, 0, 3, 2, 0, 2, 3, 4, 2, 4,\n",
       "       1, 2, 1, 2, 2, 0, 2, 4, 4, 1, 0, 4, 2, 2, 2, 2, 4, 2, 2, 3, 2, 2, 0,\n",
       "       2, 1, 4, 2, 2, 4, 2, 2, 2, 2, 2, 2, 2, 1, 0, 0, 0, 0, 2, 4, 3, 2, 4,\n",
       "       4, 2, 2, 4, 1, 2, 3, 2, 0, 2, 0, 1, 3, 3, 2, 1, 0, 2, 3, 2, 2, 3, 2,\n",
       "       2, 2, 0, 1, 4, 2, 0, 1, 2, 2, 0, 2, 2, 0, 2, 1, 4, 0, 0, 2, 0, 1, 2,\n",
       "       0, 0, 3, 2, 2, 4, 4, 4, 2, 0, 0, 2, 0, 4, 3, 2, 2, 2, 1, 4, 4, 4, 2,\n",
       "       4, 1, 2, 3, 1, 0, 0, 2, 2, 2, 2, 2, 2, 2, 1, 0, 0, 2, 0, 4, 0, 0, 2,\n",
       "       2, 0, 2, 2, 4, 3, 3, 0, 4, 1, 1, 0, 3, 2, 0, 2, 2, 0, 2, 2, 3, 3, 1,\n",
       "       0, 1, 4, 3, 3, 3, 2, 4, 1, 2, 4, 3, 2, 4, 2, 0, 0, 3, 4, 4, 4, 0, 4,\n",
       "       1, 3, 2, 0, 1, 1, 1, 2, 0, 2, 4, 3, 2, 2, 1, 0, 3, 2, 0, 2, 4, 0, 2,\n",
       "       2, 2, 4, 4, 4, 0, 0, 1, 2, 2, 2, 2, 2, 2, 0, 3, 2, 4, 3, 2, 0, 2, 2,\n",
       "       2, 2, 2, 2, 2, 2, 1, 2, 0, 0, 2, 4, 0, 3, 2, 2, 2, 3, 2, 4, 1, 0, 2,\n",
       "       2, 4, 2, 1], dtype=int64)"
      ]
     },
     "execution_count": 37,
     "metadata": {},
     "output_type": "execute_result"
    }
   ],
   "source": [
    "y_train"
   ]
  },
  {
   "cell_type": "code",
   "execution_count": 38,
   "metadata": {
    "collapsed": true
   },
   "outputs": [],
   "source": [
    "#computing for eighen faces "
   ]
  },
  {
   "cell_type": "code",
   "execution_count": 39,
   "metadata": {
    "collapsed": true
   },
   "outputs": [],
   "source": [
    "n_components=150"
   ]
  },
  {
   "cell_type": "code",
   "execution_count": 40,
   "metadata": {},
   "outputs": [
    {
     "data": {
      "text/plain": [
       "150"
      ]
     },
     "execution_count": 40,
     "metadata": {},
     "output_type": "execute_result"
    }
   ],
   "source": [
    "n_components"
   ]
  },
  {
   "cell_type": "code",
   "execution_count": 42,
   "metadata": {},
   "outputs": [
    {
     "name": "stdout",
     "output_type": "stream",
     "text": [
      "Extraction top 150 eighen from 855 faces\n"
     ]
    }
   ],
   "source": [
    "print(\"Extraction top %d eighen from %d faces\" %(n_components,X_train.shape[0]))"
   ]
  },
  {
   "cell_type": "code",
   "execution_count": 43,
   "metadata": {},
   "outputs": [
    {
     "data": {
      "text/plain": [
       "(855, 1036)"
      ]
     },
     "execution_count": 43,
     "metadata": {},
     "output_type": "execute_result"
    }
   ],
   "source": [
    "X_train.shape"
   ]
  },
  {
   "cell_type": "code",
   "execution_count": 44,
   "metadata": {
    "collapsed": true
   },
   "outputs": [],
   "source": [
    "start_time=time()"
   ]
  },
  {
   "cell_type": "code",
   "execution_count": 46,
   "metadata": {},
   "outputs": [
    {
     "data": {
      "text/plain": [
       "1515853438.8294988"
      ]
     },
     "execution_count": 46,
     "metadata": {},
     "output_type": "execute_result"
    }
   ],
   "source": [
    "start_time"
   ]
  },
  {
   "cell_type": "code",
   "execution_count": 47,
   "metadata": {
    "collapsed": true
   },
   "outputs": [],
   "source": [
    "#SVD single valued decomposition\n",
    "#pca is simply regression type\n",
    "#dimensional reduction\n",
    "pca=PCA(n_components=n_components,svd_solver='randomized',whiten='True').fit(X_train)"
   ]
  },
  {
   "cell_type": "code",
   "execution_count": 48,
   "metadata": {},
   "outputs": [
    {
     "data": {
      "text/plain": [
       "PCA(copy=True, iterated_power='auto', n_components=150, random_state=None,\n",
       "  svd_solver='randomized', tol=0.0, whiten='True')"
      ]
     },
     "execution_count": 48,
     "metadata": {},
     "output_type": "execute_result"
    }
   ],
   "source": [
    "pca"
   ]
  },
  {
   "cell_type": "code",
   "execution_count": 49,
   "metadata": {
    "collapsed": true
   },
   "outputs": [],
   "source": [
    "end_time=time()"
   ]
  },
  {
   "cell_type": "code",
   "execution_count": 60,
   "metadata": {
    "collapsed": true
   },
   "outputs": [],
   "source": [
    "X_train_pca=pca.transform(X_train)"
   ]
  },
  {
   "cell_type": "code",
   "execution_count": 61,
   "metadata": {
    "collapsed": true
   },
   "outputs": [],
   "source": [
    "X_test_pca=pca.transform(X_test)"
   ]
  },
  {
   "cell_type": "code",
   "execution_count": 52,
   "metadata": {},
   "outputs": [
    {
     "name": "stdout",
     "output_type": "stream",
     "text": [
      "time taken 405.4586 s\n"
     ]
    }
   ],
   "source": [
    "\n",
    "\n",
    "print(\"time taken %0.4f s\" %(end_time-start_time))"
   ]
  },
  {
   "cell_type": "code",
   "execution_count": 53,
   "metadata": {
    "collapsed": true
   },
   "outputs": [],
   "source": [
    "#Train a SVM classification\n",
    "# SVM is a classifier"
   ]
  },
  {
   "cell_type": "code",
   "execution_count": 54,
   "metadata": {
    "collapsed": true
   },
   "outputs": [],
   "source": [
    "start_time=time()"
   ]
  },
  {
   "cell_type": "code",
   "execution_count": 75,
   "metadata": {
    "collapsed": true
   },
   "outputs": [],
   "source": [
    "param_grid={'C':[1e3,5e3,1e4,5e4,1e5], 'gamma':[0.001,0.005,0.0001,]}\n",
    "#list of dictionary"
   ]
  },
  {
   "cell_type": "code",
   "execution_count": null,
   "metadata": {
    "collapsed": true
   },
   "outputs": [],
   "source": []
  },
  {
   "cell_type": "code",
   "execution_count": 76,
   "metadata": {
    "collapsed": true
   },
   "outputs": [],
   "source": [
    "clf=GridSearchCV(SVC(kernel='rbf',class_weight='balanced'),param_grid)"
   ]
  },
  {
   "cell_type": "code",
   "execution_count": 77,
   "metadata": {
    "collapsed": true
   },
   "outputs": [
    {
     "data": {
      "text/plain": [
       "GridSearchCV(cv=None, error_score='raise',\n",
       "       estimator=SVC(C=1.0, cache_size=200, class_weight='balanced', coef0=0.0,\n",
       "  decision_function_shape='ovr', degree=3, gamma='auto', kernel='rbf',\n",
       "  max_iter=-1, probability=False, random_state=None, shrinking=True,\n",
       "  tol=0.001, verbose=False),\n",
       "       fit_params=None, iid=True, n_jobs=1,\n",
       "       param_grid={'C': [1000.0, 5000.0, 10000.0, 50000.0, 100000.0], 'gamma': [0.001, 0.005, 0.0001]},\n",
       "       pre_dispatch='2*n_jobs', refit=True, return_train_score='warn',\n",
       "       scoring=None, verbose=0)"
      ]
     },
     "execution_count": 77,
     "metadata": {},
     "output_type": "execute_result"
    }
   ],
   "source": [
    "clf"
   ]
  },
  {
   "cell_type": "code",
   "execution_count": 78,
   "metadata": {},
   "outputs": [],
   "source": [
    "clf=clf.fit(X_train_pca,y_train)"
   ]
  },
  {
   "cell_type": "code",
   "execution_count": 79,
   "metadata": {
    "collapsed": true
   },
   "outputs": [],
   "source": [
    "end_time=time()"
   ]
  },
  {
   "cell_type": "code",
   "execution_count": 80,
   "metadata": {},
   "outputs": [
    {
     "name": "stdout",
     "output_type": "stream",
     "text": [
      "the time taken 665\n"
     ]
    }
   ],
   "source": [
    "print(\"the time taken %d\" %(end_time-start_time))"
   ]
  },
  {
   "cell_type": "code",
   "execution_count": 82,
   "metadata": {},
   "outputs": [
    {
     "name": "stdout",
     "output_type": "stream",
     "text": [
      "estimator by grid search\n"
     ]
    }
   ],
   "source": [
    "print(\"estimator by grid search\")"
   ]
  },
  {
   "cell_type": "code",
   "execution_count": 84,
   "metadata": {},
   "outputs": [
    {
     "name": "stdout",
     "output_type": "stream",
     "text": [
      "SVC(C=1000.0, cache_size=200, class_weight='balanced', coef0=0.0,\n",
      "  decision_function_shape='ovr', degree=3, gamma=0.005, kernel='rbf',\n",
      "  max_iter=-1, probability=False, random_state=None, shrinking=True,\n",
      "  tol=0.001, verbose=False)\n"
     ]
    }
   ],
   "source": [
    "print(clf.best_estimator_)"
   ]
  },
  {
   "cell_type": "code",
   "execution_count": null,
   "metadata": {
    "collapsed": true
   },
   "outputs": [],
   "source": [
    "\n",
    "\n"
   ]
  },
  {
   "cell_type": "code",
   "execution_count": 85,
   "metadata": {
    "collapsed": true
   },
   "outputs": [],
   "source": [
    "# Quantative evalution on test set"
   ]
  },
  {
   "cell_type": "code",
   "execution_count": 86,
   "metadata": {},
   "outputs": [
    {
     "name": "stdout",
     "output_type": "stream",
     "text": [
      "Predicating people's name\n"
     ]
    }
   ],
   "source": [
    "print(\"Predicating people's name\")"
   ]
  },
  {
   "cell_type": "code",
   "execution_count": 87,
   "metadata": {
    "collapsed": true
   },
   "outputs": [],
   "source": [
    "y_pred=clf.predict(X_test_pca)"
   ]
  },
  {
   "cell_type": "code",
   "execution_count": 89,
   "metadata": {},
   "outputs": [
    {
     "name": "stdout",
     "output_type": "stream",
     "text": [
      "                   precision    recall  f1-score   support\n",
      "\n",
      "     Colin Powell       0.95      0.94      0.94        64\n",
      "  Donald Rumsfeld       1.00      0.84      0.92        32\n",
      "    George W Bush       0.89      0.98      0.94       127\n",
      "Gerhard Schroeder       1.00      0.86      0.93        29\n",
      "       Tony Blair       0.97      0.88      0.92        33\n",
      "\n",
      "      avg / total       0.94      0.93      0.93       285\n",
      "\n"
     ]
    }
   ],
   "source": [
    "print(classification_report(y_test,y_pred,target_names=target_names))"
   ]
  },
  {
   "cell_type": "code",
   "execution_count": 91,
   "metadata": {},
   "outputs": [
    {
     "name": "stdout",
     "output_type": "stream",
     "text": [
      "[[ 60   0   4   0   0]\n",
      " [  0  27   4   0   1]\n",
      " [  2   0 125   0   0]\n",
      " [  1   0   3  25   0]\n",
      " [  0   0   4   0  29]]\n"
     ]
    }
   ],
   "source": [
    "print(confusion_matrix(y_test,y_pred,labels=range(n_classes)))\n",
    "\n",
    "#to calculate error"
   ]
  },
  {
   "cell_type": "code",
   "execution_count": null,
   "metadata": {
    "collapsed": true
   },
   "outputs": [],
   "source": []
  }
 ],
 "metadata": {
  "kernelspec": {
   "display_name": "Python 3",
   "language": "python",
   "name": "python3"
  },
  "language_info": {
   "codemirror_mode": {
    "name": "ipython",
    "version": 3
   },
   "file_extension": ".py",
   "mimetype": "text/x-python",
   "name": "python",
   "nbconvert_exporter": "python",
   "pygments_lexer": "ipython3",
   "version": "3.6.3"
  }
 },
 "nbformat": 4,
 "nbformat_minor": 2
}
